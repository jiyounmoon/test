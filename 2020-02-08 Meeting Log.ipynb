{
 "cells": [
  {
   "cell_type": "markdown",
   "metadata": {},
   "source": [
    "<font size=\"3\" color='red'> 2020-02-08 </font>"
   ]
  },
  {
   "cell_type": "markdown",
   "metadata": {},
   "source": [
    "1. documents/SwarmUSA 작성\n",
    "2. Mission에 대한 정식화\n",
    "3. 시나리오 작성, 환경정의"
   ]
  },
  {
   "cell_type": "markdown",
   "metadata": {},
   "source": [
    "<font size=\"3\" color='red'> TO DO LIST </font> <br>\n",
    "\n",
    "1. PDDL Description <br>\n",
    "    1.1 시나리오 환경에 맞는 ST Plan - domain/problem pddl 생성 <br>\n",
    "    1.2 pddl2.1에서 사용하는 option을 다양하게 적용 <br>\n",
    "    1.3 국문 pddl로 부터 영문 pddl 도출 (gw - Transcribe) <br>\n",
    "\n",
    "2. one-step dynamics model generation <br>\n",
    "    2.1 pddl로 부터 생성된 plan 결과를 통해 one-step dynamics 모델 생성 (gw - Translator) <br>\n",
    "    2.2 Q-table을 생성하여 강화학습 과정 및 결과 확인 <br>\n",
    " \n",
    "3. ROS gazebo - robot model create (uuv model - 5ea, usv model - 3ea) <br>\n",
    "\n",
    "4. ROS gazebo - pddl로 부터 생성된 plan을 통한 실제 동작 확인 <br>"
   ]
  },
  {
   "cell_type": "code",
   "execution_count": null,
   "metadata": {},
   "outputs": [],
   "source": []
  }
 ],
 "metadata": {
  "kernelspec": {
   "display_name": "Python 2",
   "language": "python",
   "name": "python2"
  },
  "language_info": {
   "codemirror_mode": {
    "name": "ipython",
    "version": 2
   },
   "file_extension": ".py",
   "mimetype": "text/x-python",
   "name": "python",
   "nbconvert_exporter": "python",
   "pygments_lexer": "ipython2",
   "version": "2.7.12"
  }
 },
 "nbformat": 4,
 "nbformat_minor": 2
}
