{
 "cells": [
  {
   "cell_type": "code",
   "execution_count": 2,
   "metadata": {},
   "outputs": [
    {
     "data": {
      "text/html": [
       "<h1 style='color: rgb(255,127,80)'>Color Text</h1>"
      ],
      "text/plain": [
       "<IPython.core.display.HTML object>"
      ]
     },
     "execution_count": 2,
     "metadata": {},
     "output_type": "execute_result"
    }
   ],
   "source": [
    "from IPython.core.display import HTML\n",
    "\n",
    "color=\"255,127,80\"  # coral\n",
    "\n",
    "def print_color(c):\n",
    "    source = \"<h1 style='color: rgb({0})'>Color Text</h1>\".format(c)\n",
    "    return HTML(source)\n",
    "\n",
    "print_color(color)"
   ]
  },
  {
   "cell_type": "markdown",
   "metadata": {},
   "source": [
    "<font size=\"10\" color=\"red\"> Terminology  </font> <br>\n",
    "Mission: 임무 $\\supset$ Task: 작업 $\\supset$ Behavior: 행위 $\\supset$ Action: 행동 <br>\n",
    "Motion/Movement: 운동"
   ]
  },
  {
   "cell_type": "markdown",
   "metadata": {},
   "source": [
    "\n",
    "<p style='color:red'>This is some red text.</p>  <br>\n",
    "<font color=\"red\">This is some text!</font> <br>  <br>\n",
    "These are <b style='color:red'>red words</b>.\n"
   ]
  },
  {
   "cell_type": "markdown",
   "metadata": {},
   "source": [
    "<p style=\"color:red;\"> 작전을 완수하기 위하"
   ]
  },
  {
   "cell_type": "markdown",
   "metadata": {},
   "source": [
    "This <span style=\"color:red\">word</span> is not black.\n"
   ]
  },
  {
   "cell_type": "code",
   "execution_count": null,
   "metadata": {},
   "outputs": [],
   "source": []
  }
 ],
 "metadata": {
  "kernelspec": {
   "display_name": "Python 2",
   "language": "python",
   "name": "python2"
  },
  "language_info": {
   "codemirror_mode": {
    "name": "ipython",
    "version": 2
   },
   "file_extension": ".py",
   "mimetype": "text/x-python",
   "name": "python",
   "nbconvert_exporter": "python",
   "pygments_lexer": "ipython2",
   "version": "2.7.12"
  }
 },
 "nbformat": 4,
 "nbformat_minor": 2
}
