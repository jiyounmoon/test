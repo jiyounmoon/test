{
 "cells": [
  {
   "cell_type": "markdown",
   "metadata": {},
   "source": [
    "<font size=\"3\" color=\"red\"> Terminology  </font> <br>\n",
    "Mission: 임무 $\\supset$ Task: 작업 $\\supset$ Behavior: 행위 $\\supset$ Action: 행동 <br>\n",
    "Motion/Movement: 운동"
   ]
  },
  {
   "cell_type": "markdown",
   "metadata": {},
   "source": [
    "<font size=\"3\" color=\"red\"> SwarmUSA [Underwater|Surface|Aerial]  </font> <br>\n",
    "- Cooperative Vehicle (coUSA) / No Cooperative Vehicle (ncUSA) <br>\n",
    "- Cooperative Underwater Vehicle (coUV) / No Cooperative Underwater Vehicle (ncUV) <br>\n",
    "- Cooperative Surfce Vehicle (coSV) / No Cooperative Surfce Vehicle (ncSV) </font>"
   ]
  },
  {
   "cell_type": "markdown",
   "metadata": {},
   "source": [
    "<font size=\"3\" color=\"red\"> MISSION Formalization </font>\n",
    "- 감시/정찰 \n",
    "    1. 근해 연안 감시 <br>\n",
    "        1.1. 작업 지역 이동/귀환 <br> \n",
    "        1.2. 지역 감시 관찰 <br>\n",
    "        1.3. 탐지 대상 발견 <br>\n",
    "        1.4. 탐지 대상 추적 <br>\n",
    "    2. 항구 지속 관찰 <br>\n",
    "        2.1. 항구 작업 지역 이동/귀환 <br>\n",
    "        2.2. 항구 감시 관찰 <br>\n",
    "        2.3. 탐지 대상 발견 <br>\n",
    "        2.4. 탐지 대상 추적 <br>\n",
    "    3. 고정형 센서 설치 <br>"
   ]
  },
  {
   "cell_type": "markdown",
   "metadata": {},
   "source": [
    "- 탐지/탐색"
   ]
  },
  {
   "cell_type": "markdown",
   "metadata": {},
   "source": [
    "- 방호/전투\n",
    "    1. 적 탐지 임무 <br>\n",
    "        1.1. 작업 지역 내 이동체 탐지 <br>\n",
    "        1.2. 이동체 정보 수집 <br>\n",
    "        1.3. 이동체 의도 판단 기반 공격/방어 전술 <br> \n",
    "        - 탐지한 적을 바탕으로 공격에 가장 합당한 위치로 이동\n",
    "        - 공격 자원을 효율적으로 할당하여 적의 침임을 막는 작업"
   ]
  },
  {
   "cell_type": "markdown",
   "metadata": {},
   "source": [
    "<font size=\"3\" color=\"red\"> Scenario </font>\n",
    "- Robot: coUV01, coUV02, coUV03, coSV01, coSV02, coSV03, coSV04, coSV05  <br>\n",
    "- Area: underwaterA, underwaterB, underwaterC, underwaterD, surfaceA, surfaceB, surfaceC, surfaceD, surfaceE\n",
    "\n",
    "1. coUV 3대와 coSV 5대가 정해진 각 영역을 감시/정찰 중에 있다.\n",
    "   coUV01은 underwaterA"
   ]
  },
  {
   "cell_type": "markdown",
   "metadata": {},
   "source": [
    "<font size=\"3\" color=\"red\"> Action </font>\n",
    "1. goto waypoint\n",
    "2. detect\n",
    "3. "
   ]
  },
  {
   "cell_type": "code",
   "execution_count": null,
   "metadata": {},
   "outputs": [],
   "source": []
  }
 ],
 "metadata": {
  "kernelspec": {
   "display_name": "Python 3",
   "language": "python",
   "name": "python3"
  },
  "language_info": {
   "codemirror_mode": {
    "name": "ipython",
    "version": 3
   },
   "file_extension": ".py",
   "mimetype": "text/x-python",
   "name": "python",
   "nbconvert_exporter": "python",
   "pygments_lexer": "ipython3",
   "version": "3.6.7"
  }
 },
 "nbformat": 4,
 "nbformat_minor": 2
}
