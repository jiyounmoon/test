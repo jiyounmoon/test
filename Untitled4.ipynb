{
 "cells": [
  {
   "cell_type": "markdown",
   "metadata": {},
   "source": [
    "<font size=\"10\" color=\"red\"> Terminology  </font> <br>\n",
    "Mission: 임무 $\\supset$ Task: 작업 $\\supset$ Behavior: 행위 $\\supset$ Action: 행동 <br>\n",
    "Motion/Movement: 운동"
   ]
  },
  {
   "cell_type": "markdown",
   "metadata": {},
   "source": [
    "\n",
    "<p style='color:red'>This is some red text.</p>  <br>\n",
    "<font color=\"red\">This is some text!</font> <br>  <br>\n",
    "These are <b style='color:red'>red words</b>.\n"
   ]
  },
  {
   "cell_type": "code",
   "execution_count": null,
   "metadata": {},
   "outputs": [],
   "source": []
  }
 ],
 "metadata": {
  "kernelspec": {
   "display_name": "Python 2",
   "language": "python",
   "name": "python2"
  },
  "language_info": {
   "codemirror_mode": {
    "name": "ipython",
    "version": 2
   },
   "file_extension": ".py",
   "mimetype": "text/x-python",
   "name": "python",
   "nbconvert_exporter": "python",
   "pygments_lexer": "ipython2",
   "version": "2.7.12"
  }
 },
 "nbformat": 4,
 "nbformat_minor": 2
}
